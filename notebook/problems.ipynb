{
    "cells": [
        {
            "cell_type": "markdown",
            "id": "ac622319",
            "metadata": {},
            "source": [
                "# Descriptive statistics problems"
            ]
        },
        {
            "cell_type": "markdown",
            "id": "5e0ab0d5",
            "metadata": {},
            "source": [
                "### Exercise 1\n",
                "\n",
                "We will use NumPy to obtain information to describe statistically.\n",
                "\n",
                "- Generate an array of 100 elements following a normal distribution.\n",
                "- Generate an array of 100 elements following a chi-square distribution with 3 degrees of freedom.\n",
                "- Calculate the main metrics and statistical measures that best describe the two vectors."
            ]
        },
        {
            "cell_type": "code",
            "execution_count": 19,
            "id": "34720ab6",
            "metadata": {},
            "outputs": [
                {
                    "name": "stdout",
                    "output_type": "stream",
                    "text": [
                        "Esta es la distribución normnal: \n",
                        " [30665.79325206 30357.6394872  29227.29985394 29995.80807504\n",
                        " 30310.66798695 29639.95721964 30132.75579285 30054.27426286\n",
                        " 30002.14571547 29912.6998947  30216.51309498 30601.51868691\n",
                        " 29517.46716474 30514.13703899 30114.31506506 30222.56880642\n",
                        " 29431.69889408 30067.56843922 30742.26850092 29460.09755711\n",
                        " 29011.13585967 29128.31385205 30133.035082   31192.48366536\n",
                        " 30561.8456267  30836.31110665 30049.57460792 30698.99818855\n",
                        " 29864.37600602 30306.60209243 29866.34140566 29725.34549295\n",
                        " 30066.35414788 29761.92899254 30654.23654043 30097.50663962\n",
                        " 30200.10499413 29831.18383146 30628.23613188 29634.015249\n",
                        " 30330.11577561 29824.56405428 29530.28332012 29755.33139156\n",
                        " 29597.70442887 29893.65118064 29830.42987697 30156.08496816\n",
                        " 30282.57633483 29926.28987114 29987.04733159 30144.5471019\n",
                        " 29730.06046433 30354.08000996 30421.11236919 30101.79039866\n",
                        " 31197.35183244 30458.72946876 29943.8637644  29818.90977643\n",
                        " 29883.90887203 29749.1355502  30564.39257655 29651.09498476\n",
                        " 29959.43890809 29735.3519595  30523.0914284  29290.72198539\n",
                        " 29818.75040842 29939.04715442 30159.67821055 30230.45145084\n",
                        " 29892.10505383 30494.53622875 30157.37688941 31233.82552822\n",
                        " 29245.83925642 30310.3003315  29477.43373124 29600.99559116\n",
                        " 30992.54229571 30872.40707417 29071.90725969 29888.61315045\n",
                        " 29967.07607614 28934.14394576 29975.58474433 30196.67060854\n",
                        " 30108.63257256 29002.80311513 30553.85411739 30122.27198832\n",
                        " 29969.04398525 29623.05351963 30355.97950826 30459.13457574\n",
                        " 29758.95343058 30044.79380629 30413.49931133 29022.74394   ]\n",
                        "Esta es la distribución chi-square con 3 grados de libertgado: \n",
                        " [2.5964213  0.16240474 2.03515364 1.57128254 1.75056116 4.68716243\n",
                        " 3.02509112 1.45688955 1.72068772 1.65789573 2.97428733 0.29253943\n",
                        " 6.15220259 6.77851136 3.16404701 8.05390103 4.09395596 1.20591637\n",
                        " 3.07906419 6.58982163 2.39722398 9.78678943 7.06360932 2.23108325\n",
                        " 1.44119658 0.65090754 1.59029623 3.61962409 3.34762363 1.85788012\n",
                        " 2.45928402 5.0189882  3.47729228 4.07664741 1.68518883 1.00727563\n",
                        " 0.24528454 3.92172809 1.10739583 1.81396022 5.25424879 1.75334124\n",
                        " 3.68711437 4.33774048 2.90265572 1.97089847 1.56202129 4.4623762\n",
                        " 3.18325872 1.91359091 1.58652779 6.23073984 5.03565752 0.74836334\n",
                        " 2.6329221  6.01527202 0.64413278 0.96953437 0.31021046 3.31522438\n",
                        " 1.61715858 0.33282328 6.61090799 1.31544316 4.70996741 2.67014476\n",
                        " 3.08239373 3.4081309  2.25237612 2.86088646 2.91407512 1.76842546\n",
                        " 0.92175567 3.70665548 0.39867012 0.29783109 0.76441067 1.82004146\n",
                        " 4.29390471 0.25143148 8.13985205 5.85817837 0.82016078 3.84811891\n",
                        " 1.14270584 3.72847159 9.32738536 2.99096856 1.09453701 2.51985604\n",
                        " 1.28479976 3.89043403 2.77543142 2.34203894 0.95381299 2.81812442\n",
                        " 6.07410177 2.75055467 4.81755143 2.95236169]\n"
                    ]
                }
            ],
            "source": [
                "import numpy as np\n",
                "import matplotlib.pyplot as plt\n",
                "import statistics as stats\n",
                "\n",
                "np.random.seed(10)\n",
                "\n",
                "normal_distribution = np.random.normal(30000, 500, 100)\n",
                "chi_square_distribution = np.random.chisquare(3, 100)\n",
                "\n",
                "print(f\"Esta es la distribución normnal: \\n {normal_distribution}\")\n",
                "print(f\"Esta es la distribución chi-square con 3 grados de libertgado: \\n {chi_square_distribution}\")"
            ]
        },
        {
            "cell_type": "markdown",
            "id": "5fe428fb",
            "metadata": {},
            "source": [
                "Media"
            ]
        },
        {
            "cell_type": "code",
            "execution_count": 20,
            "id": "84617731",
            "metadata": {},
            "outputs": [
                {
                    "name": "stdout",
                    "output_type": "stream",
                    "text": [
                        "La media de la distribución normal es 30039.71\n",
                        "La media de la distribución chi square es 2.96\n"
                    ]
                }
            ],
            "source": [
                "media_distribucion_normal = np.mean(normal_distribution)\n",
                "media_distribucion_chi = np.mean(chi_square_distribution)\n",
                "\n",
                "print(f\"La media de la distribución normal es {media_distribucion_normal:.2f}\")\n",
                "print(f\"La media de la distribución chi square es {media_distribucion_chi:.2f}\")"
            ]
        },
        {
            "cell_type": "markdown",
            "id": "26dcf46b",
            "metadata": {},
            "source": [
                "Mediana"
            ]
        },
        {
            "cell_type": "code",
            "execution_count": 21,
            "id": "ec1c909c",
            "metadata": {},
            "outputs": [
                {
                    "name": "stdout",
                    "output_type": "stream",
                    "text": [
                        "La mediana de la distribución normal es 30047.18\n",
                        "La mediana de la distribución chi es 2.65\n"
                    ]
                }
            ],
            "source": [
                "mediana_distribucion_normal = np.median(normal_distribution)\n",
                "mediana_distribucion_chi = np.median(chi_square_distribution)\n",
                "\n",
                "print(f\"La mediana de la distribución normal es {mediana_distribucion_normal:.2f}\")\n",
                "print(f\"La mediana de la distribución chi es {mediana_distribucion_chi:.2f}\")"
            ]
        },
        {
            "cell_type": "markdown",
            "id": "9daf841a",
            "metadata": {},
            "source": [
                "Moda"
            ]
        },
        {
            "cell_type": "code",
            "execution_count": 22,
            "id": "4d5a295d",
            "metadata": {},
            "outputs": [
                {
                    "name": "stdout",
                    "output_type": "stream",
                    "text": [
                        "La moda de la distribución normal es 30665.79\n",
                        "La moda de la distribución chi es 2.60\n"
                    ]
                }
            ],
            "source": [
                "moda_distribucion_normal = stats.mode(normal_distribution)\n",
                "moda_distribucion_chi = stats.mode(chi_square_distribution)\n",
                "\n",
                "print(f\"La moda de la distribución normal es {moda_distribucion_normal:.2f}\")\n",
                "print(f\"La moda de la distribución chi es {moda_distribucion_chi:.2f}\")"
            ]
        },
        {
            "cell_type": "markdown",
            "id": "2b21ae4f",
            "metadata": {},
            "source": [
                "Rango"
            ]
        },
        {
            "cell_type": "code",
            "execution_count": 23,
            "id": "95b6b900",
            "metadata": {},
            "outputs": [
                {
                    "name": "stdout",
                    "output_type": "stream",
                    "text": [
                        "El rango de la distribución normal es 2299.68\n",
                        "El rango de la distribución chi es 9.62\n"
                    ]
                }
            ],
            "source": [
                "rango_normal = max(normal_distribution) - min(normal_distribution)\n",
                "rango_chi = max(chi_square_distribution) - min(chi_square_distribution)\n",
                "\n",
                "print(f\"El rango de la distribución normal es {rango_normal:.2f}\")\n",
                "print(f\"El rango de la distribución chi es {rango_chi:.2f}\")"
            ]
        },
        {
            "cell_type": "markdown",
            "id": "f5f91933",
            "metadata": {},
            "source": [
                "Varianza"
            ]
        },
        {
            "cell_type": "code",
            "execution_count": 24,
            "id": "6f338a19",
            "metadata": {},
            "outputs": [
                {
                    "name": "stdout",
                    "output_type": "stream",
                    "text": [
                        "La varianza de la distribución normal es 233791.34\n",
                        "La varianza de la distribución chi es 4.33\n"
                    ]
                }
            ],
            "source": [
                "varianza_normal = np.var(normal_distribution)\n",
                "varianza_chi = np.var(chi_square_distribution)\n",
                "\n",
                "print(f\"La varianza de la distribución normal es {varianza_normal:.2f}\")\n",
                "print(f\"La varianza de la distribución chi es {varianza_chi:.2f}\")"
            ]
        },
        {
            "cell_type": "markdown",
            "id": "420ad119",
            "metadata": {},
            "source": [
                "Desviación standard"
            ]
        },
        {
            "cell_type": "code",
            "execution_count": 25,
            "id": "ef008406",
            "metadata": {},
            "outputs": [
                {
                    "name": "stdout",
                    "output_type": "stream",
                    "text": [
                        "La desviación standard de la distribución normal es 483.52\n",
                        "La desviación standard de la distribución chi es 2.08\n"
                    ]
                }
            ],
            "source": [
                "desviacion_normal = np.std(normal_distribution)\n",
                "desviacion_chi = np.std(chi_square_distribution)\n",
                "\n",
                "print(f\"La desviación standard de la distribución normal es {desviacion_normal:.2f}\")\n",
                "print(f\"La desviación standard de la distribución chi es {desviacion_chi:.2f}\")"
            ]
        },
        {
            "cell_type": "markdown",
            "id": "c942d5ad",
            "metadata": {},
            "source": [
                "Skewness"
            ]
        },
        {
            "cell_type": "code",
            "execution_count": 26,
            "id": "a7df72e5",
            "metadata": {},
            "outputs": [
                {
                    "name": "stdout",
                    "output_type": "stream",
                    "text": [
                        "El valor skewness de la distribución normal es 0.0136\n",
                        "El valor skewness de la distribución chi es 1.0662\n"
                    ]
                }
            ],
            "source": [
                "from scipy.stats import skew\n",
                "\n",
                "skew_normal = skew(normal_distribution)\n",
                "skew_chi = skew(chi_square_distribution)\n",
                "\n",
                "print(f\"El valor skewness de la distribución normal es {skew_normal:.4f}\")\n",
                "print(f\"El valor skewness de la distribución chi es {skew_chi:.4f}\")"
            ]
        },
        {
            "cell_type": "markdown",
            "id": "80ad1086",
            "metadata": {},
            "source": [
                "Kurtosis"
            ]
        },
        {
            "cell_type": "code",
            "execution_count": 28,
            "id": "b741ba0b",
            "metadata": {},
            "outputs": [
                {
                    "name": "stdout",
                    "output_type": "stream",
                    "text": [
                        "El valor de kurtosis de la distribución normal es 0.1245\n",
                        "El valor de kurtosis de la distribución chi es 0.9089\n"
                    ]
                }
            ],
            "source": [
                "from scipy.stats import kurtosis\n",
                "\n",
                "kurt_normal = kurtosis(normal_distribution)\n",
                "kurt_chi = kurtosis(chi_square_distribution)\n",
                "\n",
                "print(f\"El valor de kurtosis de la distribución normal es {kurt_normal:.4f}\")\n",
                "print(f\"El valor de kurtosis de la distribución chi es {kurt_chi:.4f}\")"
            ]
        },
        {
            "cell_type": "markdown",
            "id": "fee923ab",
            "metadata": {},
            "source": []
        },
        {
            "cell_type": "markdown",
            "id": "46c70c3d",
            "metadata": {},
            "source": [
                "### Exercise 2\n",
                "\n",
                "Write a Python program to calculate the standard deviation of the following data:\n",
                "\n",
                "```py\n",
                "data = [4, 2, 5, 8, 6]\n",
                "```"
            ]
        },
        {
            "cell_type": "code",
            "execution_count": 29,
            "id": "d590308e",
            "metadata": {},
            "outputs": [
                {
                    "name": "stdout",
                    "output_type": "stream",
                    "text": [
                        "2.0\n"
                    ]
                }
            ],
            "source": [
                "#La desviación standard es igual a --> s = raiz_cuadrado((x - media) / (n - 1))\n",
                "import numpy as np\n",
                "import math\n",
                "data = [4, 2, 5, 8, 6]\n",
                "data = np.array(data)\n",
                "def desviacion_standard(x):\n",
                "    media = np.mean(x)\n",
                "    a = 0\n",
                "    b = 0\n",
                "    for i in x:\n",
                "        a += (i - media)**2\n",
                "        b += 1\n",
                "    desviacion_stand = math.sqrt(a / b)\n",
                "\n",
                "    return desviacion_stand\n",
                "\n",
                "print(desviacion_standard(data))"
            ]
        }
    ],
    "metadata": {
        "kernelspec": {
            "display_name": "Python 3",
            "language": "python",
            "name": "python3"
        },
        "language_info": {
            "codemirror_mode": {
                "name": "ipython",
                "version": 3
            },
            "file_extension": ".py",
            "mimetype": "text/x-python",
            "name": "python",
            "nbconvert_exporter": "python",
            "pygments_lexer": "ipython3",
            "version": "3.13.1"
        }
    },
    "nbformat": 4,
    "nbformat_minor": 5
}
